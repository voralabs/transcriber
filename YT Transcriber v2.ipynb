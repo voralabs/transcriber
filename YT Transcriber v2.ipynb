{
 "cells": [
  {
   "cell_type": "code",
   "execution_count": 2,
   "id": "1c5bd326",
   "metadata": {},
   "outputs": [],
   "source": [
    "import yt_dlp\n",
    "import whisper\n",
    "import re"
   ]
  },
  {
   "cell_type": "code",
   "execution_count": null,
   "id": "e5e50eca",
   "metadata": {},
   "outputs": [],
   "source": [
    "def download_audio(url):\n",
    "    ydl_opts = {\n",
    "        'format': 'bestaudio/best',\n",
    "        'postprocessors': [{\n",
    "            'key': 'FFmpegExtractAudio',\n",
    "            'preferredcodec': 'mp3',\n",
    "            'preferredquality': '192',\n",
    "        }],\n",
    "        'outtmpl': '%(id)s.%(ext)s',\n",
    "        'ffmpeg_location': '/opt/homebrew/bin/ffmpeg',  # Update with your ffmpeg path\n",
    "    }\n",
    "    with yt_dlp.YoutubeDL(ydl_opts) as ydl:\n",
    "        result = ydl.extract_info(url, download=True)\n",
    "    return result['id'] + '.mp3'\n",
    "\n",
    "def clean_transcription(text):\n",
    "    # Remove extra whitespaces\n",
    "    text = re.sub(r'\\s+', ' ', text)\n",
    "    \n",
    "    # Capitalize first letter of each sentence\n",
    "    text = '. '.join(sentence.capitalize() for sentence in text.split('. '))\n",
    "    \n",
    "    # Remove any repeated words\n",
    "    text = re.sub(r'\\b(\\w+)(\\s+\\1\\b)+', r'\\1', text)\n",
    "    \n",
    "    return text.strip()\n",
    "\n",
    "def transcribe_and_save(url, output_filename='profg.txt'):\n",
    "    # Download audio\n",
    "    audio_file = download_audio(url)\n",
    "    \n",
    "    # Transcribe\n",
    "    model = whisper.load_model(\"base\")\n",
    "    result = model.transcribe(audio_file)\n",
    "    \n",
    "    # Clean transcription\n",
    "    cleaned_text = clean_transcription(result['text'])\n",
    "    \n",
    "    # Save to text file\n",
    "    with open(output_filename, 'w', encoding='utf-8') as file:\n",
    "        file.write(cleaned_text)\n",
    "    \n",
    "    print(f\"Transcription saved to {output_filename}\")\n",
    "    return cleaned_text\n",
    "\n",
    "# Example usage\n",
    "video_url = \"https://www.youtube.com/watch?v=J7d1qC6D7JM&ab_channel=TheProfGShow%E2%80%93ScottGalloway\" #Replace this with your Youtube link\n",
    "transcription = transcribe_and_save(video_url)\n",
    "print(transcription)"
   ]
  }
 ],
 "metadata": {
  "kernelspec": {
   "display_name": "Python 3 (ipykernel)",
   "language": "python",
   "name": "python3"
  },
  "language_info": {
   "codemirror_mode": {
    "name": "ipython",
    "version": 3
   },
   "file_extension": ".py",
   "mimetype": "text/x-python",
   "name": "python",
   "nbconvert_exporter": "python",
   "pygments_lexer": "ipython3",
   "version": "3.9.7"
  }
 },
 "nbformat": 4,
 "nbformat_minor": 5
}
